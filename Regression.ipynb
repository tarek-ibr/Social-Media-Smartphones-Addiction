{
 "cells": [
  {
   "cell_type": "code",
   "source": [
    "import math\n",
    "import numpy as np\n",
    "import pandas as pd\n",
    "import matplotlib.pyplot as plt\n",
    "import seaborn as sns\n",
    "import plotly.express as px\n",
    "\n",
    "from sklearn.model_selection import train_test_split\n",
    "from sklearn.preprocessing import StandardScaler\n",
    "from sklearn.linear_model import LinearRegression, Ridge, RidgeCV\n",
    "from sklearn.ensemble import RandomForestRegressor\n",
    "from sklearn.metrics import mean_absolute_error, mean_squared_error, r2_score\n"
   ],
   "metadata": {
    "collapsed": false
   },
   "id": "fae81e701ddab90",
   "outputs": [],
   "execution_count": null
  },
  {
   "cell_type": "markdown",
   "source": [
    "# The dataset link: https://www.kaggle.com/datasets/globalmediadata/socialmediausage-sleepdata-sg"
   ],
   "metadata": {
    "collapsed": false
   },
   "id": "d0488582faf755eb"
  },
  {
   "cell_type": "code",
   "source": [
    "df = pd.read_csv('SocialMediaUsage_SleepLatencyAnalysis_Singapore.csv', encoding='utf-8')"
   ],
   "metadata": {
    "collapsed": false
   },
   "id": "c608417eb716a85c",
   "outputs": [],
   "execution_count": null
  },
  {
   "cell_type": "markdown",
   "source": [
    "# Knowing The Data"
   ],
   "metadata": {
    "collapsed": false
   },
   "id": "831ffb40c5b52475"
  },
  {
   "cell_type": "code",
   "source": [
    "print(df.shape)"
   ],
   "metadata": {
    "collapsed": false
   },
   "id": "eb701e1a224be640",
   "outputs": [],
   "execution_count": null
  },
  {
   "cell_type": "code",
   "source": [
    "df.head()"
   ],
   "metadata": {
    "collapsed": false
   },
   "id": "ad1daafabc60ebc4",
   "outputs": [],
   "execution_count": null
  },
  {
   "cell_type": "code",
   "source": [
    "df.describe()"
   ],
   "metadata": {
    "collapsed": false
   },
   "id": "99b50db1f0890b50",
   "outputs": [],
   "execution_count": null
  },
  {
   "cell_type": "code",
   "source": [
    "print(df.info())"
   ],
   "metadata": {
    "collapsed": false
   },
   "id": "9dfaa14a20fd9447",
   "outputs": [],
   "execution_count": null
  },
  {
   "cell_type": "code",
   "source": [
    "df.columns"
   ],
   "metadata": {
    "collapsed": false
   },
   "id": "c228fabbcd9252f6",
   "outputs": [],
   "execution_count": null
  },
  {
   "cell_type": "code",
   "source": [
    "print(df.isnull().sum())"
   ],
   "metadata": {
    "collapsed": false
   },
   "id": "b1f9d288e81725a5",
   "outputs": [],
   "execution_count": null
  },
  {
   "cell_type": "code",
   "source": [
    "for column in df.select_dtypes(include=['number']).columns:\n",
    "    fig = px.box(df, x=column, title=f'Box plot for {column}')\n",
    "    fig.show()\n"
   ],
   "metadata": {
    "collapsed": false
   },
   "id": "d28d0ca2a21ad547",
   "outputs": [],
   "execution_count": null
  },
  {
   "cell_type": "code",
   "source": [
    "df_numeric = df.select_dtypes(include=[np.number])\n",
    "sns.heatmap(df_numeric.corr(), cmap='coolwarm', annot=True)\n",
    "plt.show()\n"
   ],
   "metadata": {
    "collapsed": false
   },
   "id": "533df68c3507ac1b",
   "outputs": [],
   "execution_count": null
  },
  {
   "cell_type": "markdown",
   "source": [
    "# Feature selection & pre‑processing"
   ],
   "metadata": {
    "collapsed": false
   },
   "id": "fc597fa70300f9a6"
  },
  {
   "cell_type": "code",
   "source": [
    "selected_cols = [\n",
    "    'Average Daily Social Media Use Time (minutes)',\n",
    "    'Frequency of Social Media Checking (number of times per day)',\n",
    "    'Pre-Sleep Social Media Use Duration (minutes)',\n",
    "    'Dominant Social Media Platform',\n",
    "    'Type of Social Media Content Consumed',\n",
    "]\n",
    "target_col = 'Stress Level Rating'\n",
    "\n",
    "X = pd.get_dummies(df[selected_cols], drop_first=True)\n",
    "y = df[target_col]\n",
    "\n",
    "num_cols = [\n",
    "    \"Average Daily Social Media Use Time (minutes)\",\n",
    "    \"Frequency of Social Media Checking (number of times per day)\",\n",
    "    \"Pre-Sleep Social Media Use Duration (minutes)\",\n",
    "]\n",
    "# Ensure float dtype so scaling writes back safely\n",
    "X[num_cols] = X[num_cols].astype(float)\n"
   ],
   "metadata": {
    "collapsed": false
   },
   "id": "6899eff0b7cc1712",
   "outputs": [],
   "execution_count": null
  },
  {
   "cell_type": "code",
   "source": [
    "X_train, X_test, y_train, y_test = train_test_split(\n",
    "    X, y, test_size=0.20, random_state=42\n",
    ")"
   ],
   "metadata": {
    "collapsed": false
   },
   "id": "3ffe09bd03358ff6",
   "outputs": [],
   "execution_count": null
  },
  {
   "metadata": {},
   "cell_type": "code",
   "source": [
    "scaler = StandardScaler()\n",
    "X_train.loc[:, num_cols] = scaler.fit_transform(X_train[num_cols])\n",
    "X_test.loc[:,  num_cols] = scaler.transform(X_test[num_cols])"
   ],
   "id": "6bf4d5694ea2b714",
   "outputs": [],
   "execution_count": null
  },
  {
   "cell_type": "markdown",
   "source": [
    "# Build models"
   ],
   "metadata": {
    "collapsed": false
   },
   "id": "5d78b12eb52e8faf"
  },
  {
   "cell_type": "code",
   "source": [
    "lin = LinearRegression()\n",
    "\n",
    "ridge = RidgeCV(alphas=np.logspace(-3, 3, 25), cv=5)  # searches for the best α on a grid and picks the one that minimises cross-validated error\n",
    "\n",
    "rf = RandomForestRegressor(n_estimators=300, random_state=42)\n"
   ],
   "metadata": {
    "collapsed": false
   },
   "id": "e5226d3d5bf48c79",
   "outputs": [],
   "execution_count": null
  },
  {
   "cell_type": "code",
   "source": [
    "lin.fit(X_train, y_train)\n",
    "ridge.fit(X_train, y_train)\n",
    "rf.fit(X_train, y_train)\n"
   ],
   "metadata": {
    "collapsed": false
   },
   "id": "675bf7650ee54f32",
   "outputs": [],
   "execution_count": null
  },
  {
   "cell_type": "code",
   "source": [
    "y_pred_lin = lin.predict(X_test)\n",
    "y_pred_ridge = ridge.predict(X_test)\n",
    "y_pred_rf = rf.predict(X_test)\n"
   ],
   "metadata": {
    "collapsed": false
   },
   "id": "e63c96980dfdc24a",
   "outputs": [],
   "execution_count": null
  },
  {
   "cell_type": "code",
   "source": [
    "def evaluate(y_true, y_pred, name='Model'):\n",
    "    mae = mean_absolute_error(y_true, y_pred)\n",
    "    rmse = math.sqrt(mean_squared_error(y_true, y_pred))\n",
    "    r2 = r2_score(y_true, y_pred)\n",
    "    print(f'{name:<15s}  MAE: {mae:.3f}   RMSE: {rmse:.3f}   R²: {r2:.3f}')\n",
    "    return {'MAE': mae, 'RMSE': rmse, 'R2': r2}\n",
    "\n",
    "print('\\n--- Test‑set performance ---')\n",
    "evaluate(y_test, y_pred_lin, 'Linear Regression')\n",
    "evaluate(y_test, y_pred_ridge, 'Ridge Regression')\n",
    "evaluate(y_test, y_pred_rf, 'Random Forest')\n",
    "\n",
    "print(f\"\\nRidge alpha used: {ridge.alpha_:.4f}\")"
   ],
   "metadata": {
    "collapsed": false
   },
   "id": "b0199f672b8ebd",
   "outputs": [],
   "execution_count": null
  },
  {
   "cell_type": "code",
   "source": [
    "importances = rf.feature_importances_\n",
    "feat_imp = pd.Series(importances, index=X.columns).sort_values()\n",
    "\n",
    "plt.figure(figsize=(8, 5))\n",
    "plt.barh(feat_imp.index, feat_imp.values)\n",
    "plt.xlabel('Importance')\n",
    "plt.title('Random‑Forest Feature Importances')\n",
    "plt.tight_layout()\n",
    "plt.show()\n"
   ],
   "metadata": {
    "collapsed": false
   },
   "id": "901aefd0ef10df0d",
   "outputs": [],
   "execution_count": null
  }
 ],
 "metadata": {
  "kernelspec": {
   "display_name": "Python 3",
   "language": "python",
   "name": "python3"
  },
  "language_info": {
   "name": "python",
   "version": "3.9"
  }
 },
 "nbformat": 4,
 "nbformat_minor": 5
}
