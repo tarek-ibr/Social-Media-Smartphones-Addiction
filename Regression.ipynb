{
 "cells": [
  {
   "cell_type": "code",
   "source": [
    "import math\n",
    "import numpy as np\n",
    "import pandas as pd\n",
    "import matplotlib.pyplot as plt\n",
    "import seaborn as sns\n",
    "import plotly.express as px\n",
    "\n",
    "from sklearn.model_selection import train_test_split\n",
    "from sklearn.preprocessing import StandardScaler\n",
    "from sklearn.linear_model import LinearRegression, Ridge, RidgeCV\n",
    "from sklearn.ensemble import RandomForestRegressor\n",
    "from sklearn.metrics import mean_absolute_error, mean_squared_error, r2_score\n"
   ],
   "metadata": {
    "collapsed": false
   },
   "id": "fae81e701ddab90",
   "outputs": [],
   "execution_count": null
  },
  {
   "cell_type": "markdown",
   "source": [
    "# The dataset link: https://www.kaggle.com/datasets/globalmediadata/socialmediausage-sleepdata-sg"
   ],
   "metadata": {
    "collapsed": false
   },
   "id": "d0488582faf755eb"
  },
  {
   "cell_type": "code",
   "source": [
    "df = pd.read_csv('SocialMediaUsage_SleepLatencyAnalysis_Singapore.csv', encoding='utf-8')"
   ],
   "metadata": {
    "collapsed": false
   },
   "id": "c608417eb716a85c",
   "outputs": [],
   "execution_count": null
  },
  {
   "cell_type": "markdown",
   "source": [
    "# Knowing The Data"
   ],
   "metadata": {
    "collapsed": false
   },
   "id": "831ffb40c5b52475"
  },
  {
   "cell_type": "code",
   "source": [
    "print(df.shape)"
   ],
   "metadata": {
    "collapsed": false
   },
   "id": "eb701e1a224be640",
   "outputs": [],
   "execution_count": null
  },
  {
   "cell_type": "code",
   "source": [
    "df.head()"
   ],
   "metadata": {
    "collapsed": false
   },
   "id": "ad1daafabc60ebc4",
   "outputs": [],
   "execution_count": null
  },
  {
   "cell_type": "code",
   "source": [
    "df.describe()"
   ],
   "metadata": {
    "collapsed": false
   },
   "id": "99b50db1f0890b50",
   "outputs": [],
   "execution_count": null
  },
  {
   "cell_type": "code",
   "source": [
    "print(df.info())"
   ],
   "metadata": {
    "collapsed": false
   },
   "id": "9dfaa14a20fd9447",
   "outputs": [],
   "execution_count": null
  },
  {
   "cell_type": "code",
   "source": [
    "df.columns"
   ],
   "metadata": {
    "collapsed": false
   },
   "id": "c228fabbcd9252f6",
   "outputs": [],
   "execution_count": null
  },
  {
   "cell_type": "code",
   "source": [
    "print(df.isnull().sum())"
   ],
   "metadata": {
    "collapsed": false
   },
   "id": "b1f9d288e81725a5",
   "outputs": [],
   "execution_count": null
  },
  {
   "cell_type": "code",
   "source": [
    "for column in df.select_dtypes(include=['number']).columns:\n",
    "    fig = px.box(df, x=column, title=f'Box plot for {column}')\n",
    "    fig.show()\n"
   ],
   "metadata": {
    "collapsed": false
   },
   "id": "d28d0ca2a21ad547",
   "outputs": [],
   "execution_count": null
  },
  {
   "cell_type": "code",
   "source": [
    "df_numeric = df.select_dtypes(include=[np.number])\n",
    "sns.heatmap(df_numeric.corr(), cmap='coolwarm', annot=True)\n",
    "plt.show()\n"
   ],
   "metadata": {
    "collapsed": false
   },
   "id": "533df68c3507ac1b",
   "outputs": [],
   "execution_count": null
  },
  {
   "cell_type": "markdown",
   "source": [
    "# Feature selection & pre‑processing"
   ],
   "metadata": {
    "collapsed": false
   },
   "id": "fc597fa70300f9a6"
  },
  {
   "cell_type": "code",
   "source": [
    "selected_cols = [\n",
    "    'Average Daily Social Media Use Time (minutes)',\n",
    "    'Frequency of Social Media Checking (number of times per day)',\n",
    "    'Pre-Sleep Social Media Use Duration (minutes)',\n",
    "    'Dominant Social Media Platform',\n",
    "    'Type of Social Media Content Consumed',\n",
    "]\n",
    "target_col = 'Stress Level Rating'\n",
    "\n",
    "X = pd.get_dummies(df[selected_cols], drop_first=True)\n",
    "y = df[target_col]\n",
    "\n",
    "num_cols = [\n",
    "    \"Average Daily Social Media Use Time (minutes)\",\n",
    "    \"Frequency of Social Media Checking (number of times per day)\",\n",
    "    \"Pre-Sleep Social Media Use Duration (minutes)\",\n",
    "]\n",
    "# Ensure float dtype so scaling writes back safely\n",
    "X[num_cols] = X[num_cols].astype(float)\n"
   ],
   "metadata": {
    "collapsed": false
   },
   "id": "6899eff0b7cc1712",
   "outputs": [],
   "execution_count": null
  },
  {
   "cell_type": "code",
   "source": [
    "X_train, X_test, y_train, y_test = train_test_split(\n",
    "    X, y, test_size=0.20, random_state=42\n",
    ")"
   ],
   "metadata": {
    "collapsed": false
   },
   "id": "3ffe09bd03358ff6",
   "outputs": [],
   "execution_count": null
  },
  {
   "cell_type": "code",
   "source": [
    "scaler = StandardScaler()\n",
    "X_train.loc[:, num_cols] = scaler.fit_transform(X_train[num_cols])\n",
    "X_test.loc[:,  num_cols] = scaler.transform(X_test[num_cols])"
   ],
   "metadata": {},
   "id": "6bf4d5694ea2b714",
   "outputs": [],
   "execution_count": null
  },
  {
   "cell_type": "markdown",
   "source": [
    "# Helper function for model evaluation"
   ],
   "metadata": {},
   "id": "helper_function"
  },
  {
   "cell_type": "code",
   "source": [
    "def evaluate(y_true, y_pred, name='Model'):\n",
    "    mae = mean_absolute_error(y_true, y_pred)\n",
    "    rmse = math.sqrt(mean_squared_error(y_true, y_pred))\n",
    "    r2 = r2_score(y_true, y_pred)\n",
    "    print(f'{name:<15s}  MAE: {mae:.3f}   RMSE: {rmse:.3f}   R²: {r2:.3f}')\n",
    "    return {'MAE': mae, 'RMSE': rmse, 'R2': r2}"
   ],
   "metadata": {},
   "id": "eval_function",
   "outputs": [],
   "execution_count": null
  },
  {
   "cell_type": "markdown",
   "source": [
    "# Model 1: Linear Regression"
   ],
   "metadata": {},
   "id": "linear_regression_header"
  },
  {
   "cell_type": "code",
   "source": [
    "lin = LinearRegression()\n",
    "lin.fit(X_train, y_train)\n",
    "y_pred_lin = lin.predict(X_test)\n",
    "lin_metrics = evaluate(y_test, y_pred_lin, 'Linear Regression')"
   ],
   "metadata": {},
   "id": "linear_regression_model",
   "outputs": [],
   "execution_count": null
  },
  {
   "cell_type": "code",
   "source": [
    "# Visualize Linear Regression predictions vs actual values\n",
    "plt.figure(figsize=(10, 6))\n",
    "plt.scatter(y_test, y_pred_lin, alpha=0.5)\n",
    "plt.plot([y_test.min(), y_test.max()], [y_test.min(), y_test.max()], 'r--')\n",
    "plt.xlabel('Actual Stress Level')\n",
    "plt.ylabel('Predicted Stress Level')\n",
    "plt.title('Linear Regression: Actual vs. Predicted Stress Levels')\n",
    "plt.grid(True)\n",
    "plt.tight_layout()\n",
    "plt.show()\n",
    "\n",
    "# Visualize the coefficients\n",
    "coef = pd.Series(lin.coef_, index=X.columns).sort_values(ascending=False)\n",
    "plt.figure(figsize=(12, 8))\n",
    "coef.plot(kind='bar')\n",
    "plt.title('Linear Regression Coefficients')\n",
    "plt.xlabel('Features')\n",
    "plt.ylabel('Coefficient Value')\n",
    "plt.xticks(rotation=90)\n",
    "plt.grid(axis='y')\n",
    "plt.tight_layout()\n",
    "plt.show()"
   ],
   "metadata": {},
   "id": "linear_regression_viz",
   "outputs": [],
   "execution_count": null
  },
  {
   "cell_type": "markdown",
   "source": [
    "# Model 2: Ridge Regression"
   ],
   "metadata": {},
   "id": "ridge_regression_header"
  },
  {
   "cell_type": "code",
   "source": [
    "ridge = RidgeCV(alphas=np.logspace(-3, 3, 25), cv=5)  # searches for the best α on a grid\n",
    "ridge.fit(X_train, y_train)\n",
    "y_pred_ridge = ridge.predict(X_test)\n",
    "ridge_metrics = evaluate(y_test, y_pred_ridge, 'Ridge Regression')\n",
    "print(f\"Ridge alpha used: {ridge.alpha_:.4f}\")"
   ],
   "metadata": {},
   "id": "ridge_regression_model",
   "outputs": [],
   "execution_count": null
  },
  {
   "cell_type": "code",
   "source": [
    "# Visualize Ridge Regression predictions vs actual values\n",
    "plt.figure(figsize=(10, 6))\n",
    "plt.scatter(y_test, y_pred_ridge, alpha=0.5)\n",
    "plt.plot([y_test.min(), y_test.max()], [y_test.min(), y_test.max()], 'r--')\n",
    "plt.xlabel('Actual Stress Level')\n",
    "plt.ylabel('Predicted Stress Level')\n",
    "plt.title('Ridge Regression: Actual vs. Predicted Stress Levels')\n",
    "plt.grid(True)\n",
    "plt.tight_layout()\n",
    "plt.show()\n",
    "\n",
    "# Visualize the coefficients\n",
    "ridge_coef = pd.Series(ridge.coef_, index=X.columns).sort_values(ascending=False)\n",
    "plt.figure(figsize=(12, 8))\n",
    "ridge_coef.plot(kind='bar')\n",
    "plt.title('Ridge Regression Coefficients')\n",
    "plt.xlabel('Features')\n",
    "plt.ylabel('Coefficient Value')\n",
    "plt.xticks(rotation=90)\n",
    "plt.grid(axis='y')\n",
    "plt.tight_layout()\n",
    "plt.show()"
   ],
   "metadata": {},
   "id": "ridge_regression_viz",
   "outputs": [],
   "execution_count": null
  },
  {
   "cell_type": "markdown",
   "source": [
    "# Model 3: Random Forest"
   ],
   "metadata": {},
   "id": "random_forest_header"
  },
  {
   "cell_type": "code",
   "source": [
    "rf = RandomForestRegressor(n_estimators=300, random_state=42)\n",
    "rf.fit(X_train, y_train)\n",
    "y_pred_rf = rf.predict(X_test)\n",
    "rf_metrics = evaluate(y_test, y_pred_rf, 'Random Forest')"
   ],
   "metadata": {},
   "id": "random_forest_model",
   "outputs": [],
   "execution_count": null
  },
  {
   "cell_type": "code",
   "source": [
    "# Visualize Random Forest predictions vs actual values\n",
    "plt.figure(figsize=(10, 6))\n",
    "plt.scatter(y_test, y_pred_rf, alpha=0.5)\n",
    "plt.plot([y_test.min(), y_test.max()], [y_test.min(), y_test.max()], 'r--')\n",
    "plt.xlabel('Actual Stress Level')\n",
    "plt.ylabel('Predicted Stress Level')\n",
    "plt.title('Random Forest: Actual vs. Predicted Stress Levels')\n",
    "plt.grid(True)\n",
    "plt.tight_layout()\n",
    "plt.show()\n",
    "\n",
    "# Visualize feature importances\n",
    "importances = rf.feature_importances_\n",
    "feat_imp = pd.Series(importances, index=X.columns).sort_values(ascending=False)\n",
    "\n",
    "plt.figure(figsize=(12, 8))\n",
    "feat_imp.plot(kind='bar')\n",
    "plt.title('Random Forest Feature Importances')\n",
    "plt.xlabel('Features')\n",
    "plt.ylabel('Importance')\n",
    "plt.xticks(rotation=90)\n",
    "plt.grid(axis='y')\n",
    "plt.tight_layout()\n",
    "plt.show()"
   ],
   "metadata": {},
   "id": "random_forest_viz",
   "outputs": [],
   "execution_count": null
  },
  {
   "cell_type": "markdown",
   "source": [
    "# Model Comparison"
   ],
   "metadata": {},
   "id": "model_comparison_header"
  },
  {
   "cell_type": "code",
   "source": [
    "# Create a dataframe to compare models\n",
    "models = ['Linear Regression', 'Ridge Regression', 'Random Forest']\n",
    "metrics = ['MAE', 'RMSE', 'R2']\n",
    "comparison = pd.DataFrame(index=models, columns=metrics)\n",
    "comparison.loc['Linear Regression'] = pd.Series(lin_metrics)\n",
    "comparison.loc['Ridge Regression'] = pd.Series(ridge_metrics)\n",
    "comparison.loc['Random Forest'] = pd.Series(rf_metrics)\n",
    "comparison"
   ],
   "metadata": {},
   "id": "model_comparison_df",
   "outputs": [],
   "execution_count": null
  },
  {
   "cell_type": "code",
   "source": [
    "# Visualize model comparison\n",
    "fig, axs = plt.subplots(1, 3, figsize=(15, 5))\n",
    "\n",
    "# MAE comparison\n",
    "axs[0].bar(models, comparison['MAE'])\n",
    "axs[0].set_title('Mean Absolute Error')\n",
    "axs[0].set_ylabel('MAE')\n",
    "axs[0].set_xticklabels(models, rotation=45)\n",
    "axs[0].grid(axis='y')\n",
    "\n",
    "# RMSE comparison\n",
    "axs[1].bar(models, comparison['RMSE'])\n",
    "axs[1].set_title('Root Mean Squared Error')\n",
    "axs[1].set_ylabel('RMSE')\n",
    "axs[1].set_xticklabels(models, rotation=45)\n",
    "axs[1].grid(axis='y')\n",
    "\n",
    "# R2 comparison\n",
    "axs[2].bar(models, comparison['R2'])\n",
    "axs[2].set_title('R² Score')\n",
    "axs[2].set_ylabel('R²')\n",
    "axs[2].set_xticklabels(models, rotation=45)\n",
    "axs[2].grid(axis='y')\n",
    "\n",
    "plt.tight_layout()\n",
    "plt.show()"
   ],
   "metadata": {},
   "id": "model_comparison_viz",
   "outputs": [],
   "execution_count": null
  },
  {
   "metadata": {},
   "cell_type": "code",
   "source": "",
   "id": "21bd89999c797705",
   "outputs": [],
   "execution_count": null
  }
 ],
 "metadata": {
  "kernelspec": {
   "display_name": "Python 3",
   "language": "python",
   "name": "python3"
  },
  "language_info": {
   "name": "python",
   "version": "3.9"
  }
 },
 "nbformat": 4,
 "nbformat_minor": 5
}
