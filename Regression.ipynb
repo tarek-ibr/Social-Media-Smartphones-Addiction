{
 "cells": [
  {
   "cell_type": "code",
   "id": "initial_id",
   "metadata": {
    "collapsed": true
   },
   "source": [
    "import math\n",
    "import numpy as np\n",
    "import pandas as pd\n",
    "import matplotlib.pyplot as plt\n",
    "import seaborn as sns\n",
    "import plotly.express as px\n",
    "from sklearn.model_selection import train_test_split\n",
    "from sklearn.preprocessing import StandardScaler, OneHotEncoder\n",
    "from sklearn.compose import ColumnTransformer\n",
    "from sklearn.pipeline import Pipeline\n",
    "from sklearn.linear_model import LinearRegression, RidgeCV\n",
    "from sklearn.ensemble import RandomForestRegressor\n",
    "from sklearn.metrics import mean_absolute_error, mean_squared_error, r2_score"
   ],
   "outputs": [],
   "execution_count": null
  },
  {
   "cell_type": "markdown",
   "source": [
    "# The dataset link: https://www.kaggle.com/datasets/globalmediadata/socialmediausage-sleepdata-sg"
   ],
   "metadata": {
    "collapsed": false
   },
   "id": "3b7863357302a9ab"
  },
  {
   "cell_type": "code",
   "source": [
    "df = pd.read_csv('SocialMediaUsage_SleepLatencyAnalysis_Singapore.csv',encoding='utf-8')"
   ],
   "metadata": {
    "collapsed": false
   },
   "id": "7ff0edf360c57f05",
   "outputs": [],
   "execution_count": null
  },
  {
   "cell_type": "markdown",
   "source": [
    "# Knowing The Data\n"
   ],
   "metadata": {
    "collapsed": false
   },
   "id": "d1211fcb69d6377e"
  },
  {
   "cell_type": "code",
   "source": [
    "#know the shape of the data\n",
    "print(df.shape)"
   ],
   "metadata": {
    "collapsed": false
   },
   "id": "39380321d5c33da1",
   "outputs": [],
   "execution_count": null
  },
  {
   "metadata": {},
   "cell_type": "code",
   "source": [
    "#take a look of the data\n",
    "df.head()"
   ],
   "id": "764ab1eb93c26527",
   "outputs": [],
   "execution_count": null
  },
  {
   "metadata": {},
   "cell_type": "code",
   "source": [
    "#descriing numerical values\n",
    "df.describe()"
   ],
   "id": "d58c68e084ae084f",
   "outputs": [],
   "execution_count": null
  },
  {
   "metadata": {},
   "cell_type": "code",
   "source": [
    "#know the data types of the coulumns\n",
    "print(df.info())"
   ],
   "id": "41641725931f1dd",
   "outputs": [],
   "execution_count": null
  },
  {
   "metadata": {},
   "cell_type": "code",
   "source": [
    "#to get columns names\n",
    "df.columns"
   ],
   "id": "89f2e34505b8caf3",
   "outputs": [],
   "execution_count": null
  },
  {
   "metadata": {},
   "cell_type": "code",
   "source": [
    "#Check for null values\n",
    "print(df.isnull().sum())"
   ],
   "id": "872c459c5e786369",
   "outputs": [],
   "execution_count": null
  },
  {
   "metadata": {},
   "cell_type": "code",
   "source": [
    "#to show outliers for all numerical columns\n",
    "for column in df.select_dtypes(include=['number']).columns:\n",
    "\tfig = px.box(df, x=column, title= f'Box plot for {column}')\n",
    "\tfig.show()"
   ],
   "id": "a15ba9162c6e1c10",
   "outputs": [],
   "execution_count": null
  },
  {
   "cell_type": "code",
   "source": [
    "df_numeric = df.select_dtypes(include=[np.number])\n",
    "\n",
    "sns.heatmap(df_numeric.corr(),cmap='coolwarm',annot=True)#annot-->the percentage\n",
    "plt.show()"
   ],
   "metadata": {
    "collapsed": false
   },
   "id": "c02e560f8fc303b2",
   "outputs": [],
   "execution_count": null
  },
  {
   "cell_type": "code",
   "source": [
    "selected_cols = [\n",
    "    \"Average Daily Social Media Use Time (minutes)\",\n",
    "    \"Frequency of Social Media Checking (number of times per day)\",\n",
    "    \"Pre-Sleep Social Media Use Duration (minutes)\",\n",
    "    \"Dominant Social Media Platform\",\n",
    "    \"Type of Social Media Content Consumed\",\n",
    "]\n",
    "target_col = \"Stress Level Rating\"\n",
    "\n",
    "X = df[selected_cols]\n",
    "y = df[target_col]"
   ],
   "metadata": {
    "collapsed": false
   },
   "id": "13ef4cdd449124ff",
   "outputs": [],
   "execution_count": null
  },
  {
   "cell_type": "code",
   "source": [
    "# Split\n",
    "X_train, X_test, y_train, y_test = train_test_split(\n",
    "    X, y, test_size=0.20, random_state=42, stratify=None\n",
    ")"
   ],
   "metadata": {
    "collapsed": false
   },
   "id": "ff644ae74b21af84",
   "outputs": [],
   "execution_count": null
  },
  {
   "metadata": {},
   "cell_type": "code",
   "source": [
    "numeric_features = [\n",
    "    \"Average Daily Social Media Use Time (minutes)\",\n",
    "    \"Frequency of Social Media Checking (number of times per day)\",\n",
    "    \"Pre-Sleep Social Media Use Duration (minutes)\",\n",
    "]\n",
    "categorical_features = [\n",
    "    \"Dominant Social Media Platform\",\n",
    "    \"Type of Social Media Content Consumed\",\n",
    "]\n",
    "preproc = ColumnTransformer(\n",
    "    transformers=[\n",
    "        (\"num\", StandardScaler(), numeric_features),\n",
    "        (\"cat\", OneHotEncoder(drop=\"first\"), categorical_features),\n",
    "    ]\n",
    ")"
   ],
   "id": "991e79382133177f",
   "outputs": [],
   "execution_count": null
  },
  {
   "metadata": {},
   "cell_type": "code",
   "source": [
    "lin_pipe = Pipeline(\n",
    "    steps=[(\"preproc\", preproc), (\"model\", LinearRegression())]\n",
    ")\n",
    "\n",
    "# Ridge with internal CV over a log-spaced grid of α\n",
    "ridge_alphas = np.logspace(-3, 3, 25)        # 0.001 → 1000\n",
    "ridge_pipe = Pipeline(\n",
    "    steps=[\n",
    "        (\"preproc\", preproc),\n",
    "        (\"model\", RidgeCV(alphas=ridge_alphas, cv=5))\n",
    "    ]\n",
    ")\n",
    "\n",
    "rf_pipe = Pipeline(\n",
    "    steps=[\n",
    "        (\"preproc\", preproc),\n",
    "        (\"model\", RandomForestRegressor(\n",
    "            n_estimators=300,\n",
    "            random_state=42,\n",
    "            n_jobs=-1,\n",
    "        )),\n",
    "    ]\n",
    ")"
   ],
   "id": "fcd57ca99ebe5206",
   "outputs": [],
   "execution_count": null
  },
  {
   "metadata": {},
   "cell_type": "code",
   "source": [
    "# Train\n",
    "lin_pipe.fit(X_train, y_train)\n",
    "ridge_pipe.fit(X_train, y_train)\n",
    "rf_pipe.fit(X_train, y_train)"
   ],
   "id": "f42f020b452c451a",
   "outputs": [],
   "execution_count": null
  },
  {
   "metadata": {},
   "cell_type": "code",
   "source": [
    "# Predict\n",
    "y_pred_lin = lin_pipe.predict(X_test)\n",
    "y_pred_ridge = ridge_pipe.predict(X_test)\n",
    "y_pred_rf  = rf_pipe.predict(X_test)"
   ],
   "id": "64d89b6426a8c9fa",
   "outputs": [],
   "execution_count": null
  },
  {
   "metadata": {},
   "cell_type": "code",
   "source": [
    "def evaluate(y_true, y_pred, name=\"Model\"):\n",
    "    mae  = mean_absolute_error(y_true, y_pred)\n",
    "    rmse = math.sqrt(mean_squared_error(y_true, y_pred))\n",
    "    r2   = r2_score(y_true, y_pred)\n",
    "    print(f\"{name:16s}  MAE: {mae:.3f}   RMSE: {rmse:.3f}   R²: {r2:.3f}\")\n",
    "    return {\"MAE\": mae, \"RMSE\": rmse, \"R2\": r2}\n",
    "\n",
    "print(\"\\n--- Test-set performance ---\")\n",
    "lin_metrics   = evaluate(y_test, y_pred_lin,   \"Linear Regression\")\n",
    "ridge_metrics = evaluate(y_test, y_pred_ridge, \"Ridge Regression\")\n",
    "rf_metrics    = evaluate(y_test, y_pred_rf,    \"Random-Forest\")\n",
    "\n",
    "print(f\"\\nBest α chosen by RidgeCV: {ridge_pipe.named_steps['model'].alpha_:.4f}\")"
   ],
   "id": "25f1b0465dff94db",
   "outputs": [],
   "execution_count": null
  },
  {
   "metadata": {},
   "cell_type": "code",
   "source": [
    "# 8.  Random-Forest feature importances\n",
    "ohe = rf_pipe.named_steps[\"preproc\"].named_transformers_[\"cat\"]\n",
    "feature_names = numeric_features + list(ohe.get_feature_names_out(categorical_features))\n",
    "importances = rf_pipe.named_steps[\"model\"].feature_importances_\n",
    "\n",
    "imp_series = pd.Series(importances, index=feature_names).sort_values()\n",
    "\n",
    "plt.figure(figsize=(8, 5))\n",
    "plt.barh(imp_series.index, imp_series.values)\n",
    "plt.xlabel(\"Importance\")\n",
    "plt.title(\"Random-Forest Feature Importances\")\n",
    "plt.tight_layout()\n",
    "plt.show()"
   ],
   "id": "b773a357ba013102",
   "outputs": [],
   "execution_count": null
  },
  {
   "metadata": {},
   "cell_type": "code",
   "source": "",
   "id": "387e722d72cbb758",
   "outputs": [],
   "execution_count": null
  }
 ],
 "metadata": {
  "kernelspec": {
   "display_name": "Python 3",
   "language": "python",
   "name": "python3"
  },
  "language_info": {
   "codemirror_mode": {
    "name": "ipython",
    "version": 2
   },
   "file_extension": ".py",
   "mimetype": "text/x-python",
   "name": "python",
   "nbconvert_exporter": "python",
   "pygments_lexer": "ipython2",
   "version": "2.7.6"
  }
 },
 "nbformat": 4,
 "nbformat_minor": 5
}
