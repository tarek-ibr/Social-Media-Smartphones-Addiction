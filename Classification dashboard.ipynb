{
 "cells": [
  {
   "cell_type": "code",
   "execution_count": 1,
   "id": "initial_id",
   "metadata": {
    "collapsed": true,
    "ExecuteTime": {
     "end_time": "2025-05-19T16:08:06.245374Z",
     "start_time": "2025-05-19T16:08:06.134382Z"
    }
   },
   "outputs": [],
   "source": [
    "import pandas as pd\n",
    "import plotly.express as px"
   ]
  },
  {
   "cell_type": "code",
   "outputs": [],
   "source": [
    "# Load the data\n",
    "df = pd.read_csv('mobile_addiction.csv',encoding='utf-8')"
   ],
   "metadata": {
    "collapsed": false,
    "ExecuteTime": {
     "end_time": "2025-05-19T16:08:06.262234Z",
     "start_time": "2025-05-19T16:08:06.246382Z"
    }
   },
   "id": "45e358343afe5d5d",
   "execution_count": 2
  },
  {
   "cell_type": "code",
   "outputs": [
    {
     "data": {
      "text/plain": "   Unnamed: 0  daily_screen_time  app_sessions  social_media_usage  \\\n0           0                  2            29                   0   \n1           1                  6            29                   1   \n2           2                  9            28                   2   \n3           3                  6            39                   2   \n4           4                  5            37                   3   \n\n   gaming_time  notifications  night_usage  age  work_study_hours  \\\n0            0             49            0   44                 5   \n1            2             65            1   29                 5   \n2            0             57            3   28                 7   \n3            0             69            1   28                 6   \n4            1             64            2   27                 4   \n\n   stress_level  apps_installed      addicted  \n0             3              35  not addicted  \n1             9              21      addicted  \n2             5              39      addicted  \n3             8              24      addicted  \n4             5              26      addicted  ",
      "text/html": "<div>\n<style scoped>\n    .dataframe tbody tr th:only-of-type {\n        vertical-align: middle;\n    }\n\n    .dataframe tbody tr th {\n        vertical-align: top;\n    }\n\n    .dataframe thead th {\n        text-align: right;\n    }\n</style>\n<table border=\"1\" class=\"dataframe\">\n  <thead>\n    <tr style=\"text-align: right;\">\n      <th></th>\n      <th>Unnamed: 0</th>\n      <th>daily_screen_time</th>\n      <th>app_sessions</th>\n      <th>social_media_usage</th>\n      <th>gaming_time</th>\n      <th>notifications</th>\n      <th>night_usage</th>\n      <th>age</th>\n      <th>work_study_hours</th>\n      <th>stress_level</th>\n      <th>apps_installed</th>\n      <th>addicted</th>\n    </tr>\n  </thead>\n  <tbody>\n    <tr>\n      <th>0</th>\n      <td>0</td>\n      <td>2</td>\n      <td>29</td>\n      <td>0</td>\n      <td>0</td>\n      <td>49</td>\n      <td>0</td>\n      <td>44</td>\n      <td>5</td>\n      <td>3</td>\n      <td>35</td>\n      <td>not addicted</td>\n    </tr>\n    <tr>\n      <th>1</th>\n      <td>1</td>\n      <td>6</td>\n      <td>29</td>\n      <td>1</td>\n      <td>2</td>\n      <td>65</td>\n      <td>1</td>\n      <td>29</td>\n      <td>5</td>\n      <td>9</td>\n      <td>21</td>\n      <td>addicted</td>\n    </tr>\n    <tr>\n      <th>2</th>\n      <td>2</td>\n      <td>9</td>\n      <td>28</td>\n      <td>2</td>\n      <td>0</td>\n      <td>57</td>\n      <td>3</td>\n      <td>28</td>\n      <td>7</td>\n      <td>5</td>\n      <td>39</td>\n      <td>addicted</td>\n    </tr>\n    <tr>\n      <th>3</th>\n      <td>3</td>\n      <td>6</td>\n      <td>39</td>\n      <td>2</td>\n      <td>0</td>\n      <td>69</td>\n      <td>1</td>\n      <td>28</td>\n      <td>6</td>\n      <td>8</td>\n      <td>24</td>\n      <td>addicted</td>\n    </tr>\n    <tr>\n      <th>4</th>\n      <td>4</td>\n      <td>5</td>\n      <td>37</td>\n      <td>3</td>\n      <td>1</td>\n      <td>64</td>\n      <td>2</td>\n      <td>27</td>\n      <td>4</td>\n      <td>5</td>\n      <td>26</td>\n      <td>addicted</td>\n    </tr>\n  </tbody>\n</table>\n</div>"
     },
     "execution_count": 3,
     "metadata": {},
     "output_type": "execute_result"
    }
   ],
   "source": [
    "df.head()"
   ],
   "metadata": {
    "collapsed": false,
    "ExecuteTime": {
     "end_time": "2025-05-19T16:08:06.282716Z",
     "start_time": "2025-05-19T16:08:06.263243Z"
    }
   },
   "id": "131a0cc6d01b0e5c",
   "execution_count": 3
  },
  {
   "cell_type": "code",
   "outputs": [],
   "source": [
    "# Drop unnecessary index column\n",
    "df = df.drop(columns=['Unnamed: 0'])"
   ],
   "metadata": {
    "collapsed": false,
    "ExecuteTime": {
     "end_time": "2025-05-19T16:08:06.292078Z",
     "start_time": "2025-05-19T16:08:06.283722Z"
    }
   },
   "id": "7098992df002bd59",
   "execution_count": 4
  },
  {
   "cell_type": "code",
   "outputs": [],
   "source": [
    "features = [\n",
    "    'daily_screen_time', 'app_sessions', 'social_media_usage',\n",
    "    'gaming_time', 'notifications', 'night_usage', 'age',\n",
    "    'work_study_hours', 'stress_level', 'apps_installed'\n",
    "]"
   ],
   "metadata": {
    "collapsed": false,
    "ExecuteTime": {
     "end_time": "2025-05-19T16:08:06.309753Z",
     "start_time": "2025-05-19T16:08:06.293270Z"
    }
   },
   "id": "6b26037db448c54b",
   "execution_count": 5
  },
  {
   "cell_type": "code",
   "outputs": [
    {
     "name": "stderr",
     "output_type": "stream",
     "text": [
      "C:\\Users\\tarok\\AppData\\Local\\Temp\\ipykernel_19604\\3420900888.py:46: FutureWarning:\n",
      "\n",
      "The default of observed=False is deprecated and will be changed to True in a future version of pandas. Pass observed=False to retain current behavior or observed=True to adopt the future default and silence this warning.\n",
      "\n",
      "C:\\Users\\tarok\\AppData\\Local\\Temp\\ipykernel_19604\\3420900888.py:53: FutureWarning:\n",
      "\n",
      "The default of observed=False is deprecated and will be changed to True in a future version of pandas. Pass observed=False to retain current behavior or observed=True to adopt the future default and silence this warning.\n",
      "\n",
      "C:\\Users\\tarok\\AppData\\Local\\Temp\\ipykernel_19604\\3420900888.py:67: FutureWarning:\n",
      "\n",
      "The default of observed=False is deprecated and will be changed to True in a future version of pandas. Pass observed=False to retain current behavior or observed=True to adopt the future default and silence this warning.\n",
      "\n"
     ]
    },
    {
     "data": {
      "text/plain": "<IPython.lib.display.IFrame at 0x1e8d8775550>",
      "text/html": "\n        <iframe\n            width=\"100%\"\n            height=\"650\"\n            src=\"http://127.0.0.1:8050/\"\n            frameborder=\"0\"\n            allowfullscreen\n            \n        ></iframe>\n        "
     },
     "metadata": {},
     "output_type": "display_data"
    }
   ],
   "source": [
    "import dash\n",
    "from dash import dcc, html\n",
    "from dash.dependencies import Input, Output\n",
    "import plotly.express as px\n",
    "import plotly.graph_objects as go\n",
    "import pandas as pd\n",
    "import joblib\n",
    "import numpy as np\n",
    "import seaborn as sns\n",
    "import matplotlib.pyplot as plt\n",
    "import io\n",
    "import base64\n",
    "from sklearn.neighbors import KNeighborsClassifier\n",
    "from sklearn.metrics import accuracy_score\n",
    "from sklearn.model_selection import train_test_split\n",
    "from sklearn.preprocessing import StandardScaler\n",
    "\n",
    "# Load data and model\n",
    "df = pd.read_csv(\"mobile_addiction.csv\")\n",
    "model = joblib.load(\"random_forest_model.pkl\")\n",
    "\n",
    "features = [\n",
    "    'daily_screen_time', 'app_sessions', 'social_media_usage',\n",
    "    'gaming_time', 'notifications', 'night_usage', 'age',\n",
    "    'work_study_hours', 'stress_level', 'apps_installed'\n",
    "]\n",
    "\n",
    "# Create age groups\n",
    "bins = [0, 20, 30, 40, 50, 100]\n",
    "labels = ['<20', '20-30', '30-40', '40-50', '>50']\n",
    "df['age_group'] = pd.cut(df['age'], bins=bins, labels=labels)\n",
    "\n",
    "app = dash.Dash(__name__)\n",
    "app.title = \"Digital Addiction Dashboard\"\n",
    "\n",
    "app.layout = html.Div([\n",
    "    html.H1(\"📱 Digital Addiction Data Dashboard\", style={'textAlign': 'center'}),\n",
    "\n",
    "    html.H2(\"Addiction Status Distribution\"),\n",
    "    dcc.Graph(figure=px.pie(df, names='addicted', title='Addicted vs Not Addicted', hole=0.3)),\n",
    "\n",
    "    html.H2(\"Top-Level Insights\"),\n",
    "    html.Div([\n",
    "        dcc.Graph(\n",
    "            figure=px.bar(\n",
    "                df.groupby(\"age_group\")[\"daily_screen_time\"].mean().reset_index(),\n",
    "                x=\"age_group\", y=\"daily_screen_time\",\n",
    "                title=\"Average Daily Screen Time by Age Group\"\n",
    "            )\n",
    "        ),\n",
    "        dcc.Graph(\n",
    "            figure=px.bar(\n",
    "                df.groupby(\"age_group\")[\"app_sessions\"].mean().reset_index(),\n",
    "                x=\"age_group\", y=\"app_sessions\",\n",
    "                title=\"Average App Sessions by Age Group\"\n",
    "            )\n",
    "        ),\n",
    "        dcc.Graph(\n",
    "            figure=px.bar(\n",
    "                df.groupby(\"addicted\")[\"notifications\"].mean().reset_index(),\n",
    "                x=\"addicted\", y=\"notifications\",\n",
    "                title=\"Average Notifications by Addiction Status\"\n",
    "            )\n",
    "        ),\n",
    "        dcc.Graph(\n",
    "            figure=px.bar(\n",
    "                df.groupby(\"age_group\")[\"daily_screen_time\"].mean().sort_values(ascending=False).reset_index().head(5),\n",
    "                x=\"age_group\", y=\"daily_screen_time\",\n",
    "                title=\"Top 5 Age Groups by Average Screen Time\"\n",
    "            )\n",
    "        ),\n",
    "        dcc.Graph(\n",
    "            figure=px.pie(\n",
    "                df, names=\"social_media_usage\", title=\"Social Media Usage Distribution\"\n",
    "            )\n",
    "        ),\n",
    "    ]),\n",
    "\n",
    "    html.H2(\"📊 General Statistics\"),\n",
    "    html.Div(id='stats-output', style={'marginBottom': 30}),\n",
    "\n",
    "    html.Label(\"Select Feature to Explore:\"),\n",
    "    dcc.Dropdown(\n",
    "        id='feature-dropdown',\n",
    "        options=[{'label': f.replace('_', ' ').title(), 'value': f} for f in features],\n",
    "        value=features[0]\n",
    "    ),\n",
    "\n",
    "    html.Div([\n",
    "        dcc.Graph(id='binned-addiction-graph'),\n",
    "        dcc.Graph(id='boxplot-outliers'),\n",
    "        dcc.Graph(id='histogram-kde'),\n",
    "    ]),\n",
    "\n",
    "    html.H2(\"📌 Feature Correlation Heatmap\"),\n",
    "    html.Img(id='correlation-heatmap', style={'width': '80%'}),\n",
    "\n",
    "    html.H2(\"🔥 Feature Importance (XGBoost)\"),\n",
    "    dcc.Graph(id='feature-importance'),\n",
    "\n",
    "    html.H2(\"🖐️ KNN Elbow Method (Error Rate by k)\"),\n",
    "    dcc.Graph(id='knn-elbow-plot')\n",
    "])\n",
    "\n",
    "@app.callback(\n",
    "    Output('stats-output', 'children'),\n",
    "    Input('feature-dropdown', 'value')\n",
    ")\n",
    "def show_stats(feature):\n",
    "    stats = df[feature].describe().to_dict()\n",
    "    addiction_ratio = df['addicted'].value_counts(normalize=True).to_dict()\n",
    "    return html.Ul([\n",
    "        html.Li(f\"Mean: {stats['mean']:.2f}\"),\n",
    "        html.Li(f\"Std Dev: {stats['std']:.2f}\"),\n",
    "        html.Li(f\"Min: {stats['min']:.2f}\"),\n",
    "        html.Li(f\"Max: {stats['max']:.2f}\"),\n",
    "        html.Li(f\"Addicted: {addiction_ratio.get(1, 0)*100:.1f}%\"),\n",
    "        html.Li(f\"Not Addicted: {addiction_ratio.get(0, 0)*100:.1f}%\")\n",
    "    ])\n",
    "\n",
    "@app.callback(\n",
    "    Output('binned-addiction-graph', 'figure'),\n",
    "    Input('feature-dropdown', 'value')\n",
    ")\n",
    "def update_binned_plot(feature):\n",
    "    binned_col = f'{feature}_binned'\n",
    "    unique_vals = df[feature].nunique()\n",
    "\n",
    "    if unique_vals >= 10:\n",
    "        bin_edges = pd.qcut(df[feature], q=5, retbins=True, duplicates='drop')[1]\n",
    "        num_bins = len(bin_edges) - 1\n",
    "        labels = ['Very Low', 'Low', 'Medium', 'High', 'Very High'][:num_bins]\n",
    "        df[binned_col] = pd.qcut(df[feature], q=num_bins, labels=labels)\n",
    "    else:\n",
    "        df[binned_col] = pd.cut(df[feature], bins=5, labels=['Very Low', 'Low', 'Medium', 'High', 'Very High'])\n",
    "\n",
    "    grouped = df.groupby([binned_col, 'addicted'], observed=True).size().reset_index(name='count')\n",
    "    total_per_bin = grouped.groupby(binned_col)['count'].transform('sum')\n",
    "    grouped['percentage'] = grouped['count'] / total_per_bin * 100\n",
    "    pivot = grouped.pivot(index=binned_col, columns='addicted', values='percentage').fillna(0)\n",
    "    pivot.columns = ['Not Addicted', 'Addicted']\n",
    "\n",
    "    fig = go.Figure()\n",
    "    for col in pivot.columns:\n",
    "        fig.add_trace(go.Bar(name=col, x=pivot.index, y=pivot[col]))\n",
    "    fig.update_layout(barmode='stack', title=f'Addiction by {feature.replace(\"_\", \" \").title()}')\n",
    "    return fig\n",
    "\n",
    "@app.callback(\n",
    "    Output('boxplot-outliers', 'figure'),\n",
    "    Input('feature-dropdown', 'value')\n",
    ")\n",
    "def update_boxplot(feature):\n",
    "    return px.box(df, y=feature, title=f'Boxplot of {feature.replace(\"_\", \" \").title()}')\n",
    "\n",
    "@app.callback(\n",
    "    Output('histogram-kde', 'figure'),\n",
    "    Input('feature-dropdown', 'value')\n",
    ")\n",
    "def histogram_kde(feature):\n",
    "    fig = px.histogram(df, x=feature, nbins=30, marginal=\"violin\", color='addicted',\n",
    "                       barmode='overlay', histnorm='probability density',\n",
    "                       title=f'Distribution of {feature.replace(\"_\", \" \").title()} by Addiction')\n",
    "    return fig\n",
    "\n",
    "@app.callback(\n",
    "    Output('correlation-heatmap', 'src'),\n",
    "    Input('feature-dropdown', 'value')\n",
    ")\n",
    "def correlation_plot(_):\n",
    "    corr = df[features].corr()\n",
    "    plt.figure(figsize=(8, 6))\n",
    "    sns.heatmap(corr, annot=True, cmap='coolwarm')\n",
    "    buf = io.BytesIO()\n",
    "    plt.savefig(buf, format='png')\n",
    "    plt.close()\n",
    "    buf.seek(0)\n",
    "    return 'data:image/png;base64,' + base64.b64encode(buf.read()).decode()\n",
    "\n",
    "@app.callback(\n",
    "    Output('feature-importance', 'figure'),\n",
    "    Input('feature-dropdown', 'value')\n",
    ")\n",
    "def feature_importance(_):\n",
    "    importances = model.feature_importances_\n",
    "    fi_df = pd.DataFrame({'Feature': features, 'Importance': importances}).sort_values(by='Importance', ascending=False)\n",
    "    fig = px.bar(fi_df, x='Importance', y='Feature', orientation='h', title=\"XGBoost Feature Importance\")\n",
    "    return fig\n",
    "\n",
    "@app.callback(\n",
    "    Output('knn-elbow-plot', 'figure'),\n",
    "    Input('feature-dropdown', 'value')\n",
    ")\n",
    "def plot_knn_elbow(_):\n",
    "    X = df[features]\n",
    "    y = df['addicted']\n",
    "    X_train, X_test, y_train, y_test = train_test_split(X, y, test_size=0.2, random_state=42)\n",
    "\n",
    "    scaler = StandardScaler()\n",
    "    X_train_scaled = scaler.fit_transform(X_train)\n",
    "    X_test_scaled = scaler.transform(X_test)\n",
    "\n",
    "    k_range = range(1, 21)\n",
    "    error_rates = []\n",
    "\n",
    "    for k in k_range:\n",
    "        knn = KNeighborsClassifier(n_neighbors=k)\n",
    "        knn.fit(X_train_scaled, y_train)\n",
    "        y_pred_k = knn.predict(X_test_scaled)\n",
    "        error = 1 - accuracy_score(y_test, y_pred_k)\n",
    "        error_rates.append(error)\n",
    "\n",
    "    fig = go.Figure()\n",
    "    fig.add_trace(go.Scatter(\n",
    "        x=list(k_range),\n",
    "        y=error_rates,\n",
    "        mode='lines+markers',\n",
    "        name='Error Rate',\n",
    "        marker=dict(size=8)\n",
    "    ))\n",
    "    fig.update_layout(\n",
    "        title='KNN Elbow Method (Error Rate by k)',\n",
    "        xaxis_title='Number of Neighbors (k)',\n",
    "        yaxis_title='Error Rate',\n",
    "        template='plotly_dark'\n",
    "    )\n",
    "    return fig\n",
    "\n",
    "if __name__ == '__main__':\n",
    "    app.run(debug=True)"
   ],
   "metadata": {
    "collapsed": false,
    "ExecuteTime": {
     "end_time": "2025-05-19T16:12:22.096671Z",
     "start_time": "2025-05-19T16:12:21.672022Z"
    }
   },
   "id": "47310b1b9d3d232c",
   "execution_count": 8
  },
  {
   "cell_type": "code",
   "outputs": [],
   "source": [],
   "metadata": {
    "collapsed": false,
    "ExecuteTime": {
     "end_time": "2025-05-19T16:08:08.411544Z",
     "start_time": "2025-05-19T16:08:08.406396Z"
    }
   },
   "id": "5c101bf917a33462",
   "execution_count": 6
  }
 ],
 "metadata": {
  "kernelspec": {
   "display_name": "Python 3",
   "language": "python",
   "name": "python3"
  },
  "language_info": {
   "codemirror_mode": {
    "name": "ipython",
    "version": 2
   },
   "file_extension": ".py",
   "mimetype": "text/x-python",
   "name": "python",
   "nbconvert_exporter": "python",
   "pygments_lexer": "ipython2",
   "version": "2.7.6"
  }
 },
 "nbformat": 4,
 "nbformat_minor": 5
}
