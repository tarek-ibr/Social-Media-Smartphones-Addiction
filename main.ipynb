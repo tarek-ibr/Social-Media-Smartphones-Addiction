{
 "cells": [
  {
   "cell_type": "code",
   "id": "initial_id",
   "metadata": {
    "collapsed": true
   },
   "source": [
    "import numpy as np\n",
    "import pandas as pd\n",
    "import matplotlib.pyplot as plt\n",
    "import seaborn as sns\n",
    "import plotly.express as px\n",
    "from sklearn.metrics import confusion_matrix"
   ],
   "outputs": [],
   "execution_count": null
  },
  {
   "cell_type": "code",
   "source": "df = pd.read_csv('mobile_addiction.csv',encoding='utf-8')",
   "metadata": {
    "collapsed": false
   },
   "id": "6ceb594ff62e17cf",
   "outputs": [],
   "execution_count": null
  },
  {
   "metadata": {},
   "cell_type": "markdown",
   "source": "# Knowing The Data",
   "id": "59883c3a445b6a5b"
  },
  {
   "metadata": {},
   "cell_type": "code",
   "source": [
    "#know the shape of the data\n",
    "print(df.shape)"
   ],
   "id": "d877d065d429a8a3",
   "outputs": [],
   "execution_count": null
  },
  {
   "metadata": {},
   "cell_type": "code",
   "source": [
    "#know the data types of the coulumns\n",
    "print(df.info())"
   ],
   "id": "70d9fc8e67915ad0",
   "outputs": [],
   "execution_count": null
  },
  {
   "metadata": {},
   "cell_type": "code",
   "source": [
    "#take a look of the data\n",
    "df.head()"
   ],
   "id": "9c96efd972a71355",
   "outputs": [],
   "execution_count": null
  },
  {
   "metadata": {},
   "cell_type": "code",
   "source": [
    "#descriing numerical values\n",
    "df.describe()"
   ],
   "id": "b4d05e2f9f97eba",
   "outputs": [],
   "execution_count": null
  },
  {
   "metadata": {},
   "cell_type": "code",
   "source": [
    "#descriing categorical values\n",
    "df.describe(include='object')"
   ],
   "id": "8601e8a4fa2f0d82",
   "outputs": [],
   "execution_count": null
  },
  {
   "metadata": {},
   "cell_type": "code",
   "source": [
    "#to get columns names\n",
    "df.columns"
   ],
   "id": "3a6de20ab1c03136",
   "outputs": [],
   "execution_count": null
  },
  {
   "metadata": {},
   "cell_type": "code",
   "source": [
    "#Check for null values\n",
    "print(df.isnull().sum())"
   ],
   "id": "2201423fea37a269",
   "outputs": [],
   "execution_count": null
  },
  {
   "metadata": {},
   "cell_type": "code",
   "source": [
    "# Drop unnecessary index column\n",
    "df = df.drop(columns=['Unnamed: 0'])"
   ],
   "id": "5cdf4d00df1c7d77",
   "outputs": [],
   "execution_count": null
  },
  {
   "metadata": {},
   "cell_type": "code",
   "source": [
    "#to get columns names\n",
    "df.columns"
   ],
   "id": "57d81724ecce8828",
   "outputs": [],
   "execution_count": null
  },
  {
   "metadata": {},
   "cell_type": "code",
   "source": [
    "#to show outliers for all numerical columns\n",
    "for column in df.select_dtypes(include=['number']).columns:\n",
    "\tfig = px.box(df, x=column, title= f'Box plot for {column}')\n",
    "\tfig.show()\n"
   ],
   "id": "5d2311ef39779c26",
   "outputs": [],
   "execution_count": null
  },
  {
   "metadata": {},
   "cell_type": "markdown",
   "source": "*Almost there is no outliers in this data set*",
   "id": "625ca7214b847ddb"
  },
  {
   "metadata": {},
   "cell_type": "code",
   "source": [
    "features = [\n",
    "    'daily_screen_time', 'app_sessions', 'social_media_usage',\n",
    "    'gaming_time', 'notifications', 'night_usage', 'age',\n",
    "    'work_study_hours', 'stress_level', 'apps_installed'\n",
    "]\n",
    "\n",
    "for feature in features:\n",
    "    binned_col = f'{feature}_binned'\n",
    "\n",
    "    try:\n",
    "        unique_vals = df[feature].nunique()\n",
    "\n",
    "        # Use qcut for features with many unique values\n",
    "        if unique_vals >= 10:\n",
    "            bin_edges = pd.qcut(df[feature], q=5, retbins=True, duplicates='drop')[1]\n",
    "            num_bins = len(bin_edges) - 1\n",
    "            labels = ['Very Low', 'Low', 'Medium', 'High', 'Very High'][:num_bins]\n",
    "            df[binned_col] = pd.qcut(df[feature], q=num_bins, labels=labels)\n",
    "        else:\n",
    "            # Fallback: cut into equal-width bins\n",
    "            df[binned_col] = pd.cut(df[feature], bins=5, labels=['Very Low', 'Low', 'Medium', 'High', 'Very High'])\n",
    "\n",
    "        # Plot\n",
    "        sns.countplot(x=binned_col, hue='addicted', data=df)\n",
    "        plt.title(f'Addiction Status by {feature.replace(\"_\", \" \").title()}')\n",
    "        plt.xlabel(feature.replace('_', ' ').title())\n",
    "        plt.ylabel('Count')\n",
    "        plt.xticks(rotation=30)\n",
    "        plt.tight_layout()\n",
    "        plt.show()\n",
    "\n",
    "    except Exception as e:\n",
    "        print(f\"Skipping {feature} due to error: {e}\")"
   ],
   "id": "cc7161ebed82707c",
   "outputs": [],
   "execution_count": null
  },
  {
   "metadata": {},
   "cell_type": "markdown",
   "source": "I noticed that in the social media, gaming time, and night usage, when the time increased I got fewer addicted persons so I decided to calculate the proportions within each bin instead of count\n",
   "id": "8eb6413f8f6ef3e9"
  },
  {
   "metadata": {},
   "cell_type": "code",
   "source": [
    "# Features to visualize\n",
    "features = [\n",
    "    'daily_screen_time', 'app_sessions', 'social_media_usage',\n",
    "    'gaming_time', 'notifications', 'night_usage', 'age',\n",
    "    'work_study_hours', 'stress_level', 'apps_installed'\n",
    "]\n",
    "\n",
    "# Loop through each feature\n",
    "for feature in features:\n",
    "    binned_col = f'{feature}_binned'\n",
    "\n",
    "    try:\n",
    "        unique_vals = df[feature].nunique()\n",
    "\n",
    "        # Choose binning strategy based on value spread\n",
    "        if unique_vals >= 10:\n",
    "            # Quantile binning\n",
    "            bin_edges = pd.qcut(df[feature], q=5, retbins=True, duplicates='drop')[1]\n",
    "            num_bins = len(bin_edges) - 1\n",
    "            labels = ['Very Low', 'Low', 'Medium', 'High', 'Very High'][:num_bins]\n",
    "            df[binned_col] = pd.qcut(df[feature], q=num_bins, labels=labels)\n",
    "        else:\n",
    "            # Equal-width binning for low-uniqueness features\n",
    "            df[binned_col] = pd.cut(df[feature], bins=5, labels=['Very Low', 'Low', 'Medium', 'High', 'Very High'])\n",
    "\n",
    "        # Group and calculate percentage with observed=True to suppress warnings\n",
    "        grouped = df.groupby([binned_col, 'addicted'], observed=True).size().reset_index(name='count')\n",
    "        total_per_bin = grouped.groupby(binned_col, observed=True)['count'].transform('sum')\n",
    "        grouped['percentage'] = grouped['count'] / total_per_bin * 100\n",
    "\n",
    "        # Pivot for stacked bar plot\n",
    "        pivot = grouped.pivot(index=binned_col, columns='addicted', values='percentage').fillna(0)\n",
    "        pivot.columns = ['Not Addicted' if c == 0 else 'Addicted' for c in pivot.columns]\n",
    "\n",
    "        # Plot\n",
    "        pivot.plot(kind='bar', stacked=True, figsize=(8, 6), colormap='Set2')\n",
    "        plt.title(f'Addiction Percentage by {feature.replace(\"_\", \" \").title()}')\n",
    "        plt.xlabel(feature.replace('_', ' ').title())\n",
    "        plt.ylabel('Percentage')\n",
    "        plt.legend(title='Addiction Status')\n",
    "        plt.xticks(rotation=30)\n",
    "        plt.tight_layout()\n",
    "        plt.show()\n",
    "\n",
    "    except Exception as e:\n",
    "        print(f\"Skipping {feature} due to error: {e}\")"
   ],
   "id": "45ece27da6122864",
   "outputs": [],
   "execution_count": null
  }
 ],
 "metadata": {
  "kernelspec": {
   "display_name": "Python 3",
   "language": "python",
   "name": "python3"
  },
  "language_info": {
   "codemirror_mode": {
    "name": "ipython",
    "version": 2
   },
   "file_extension": ".py",
   "mimetype": "text/x-python",
   "name": "python",
   "nbconvert_exporter": "python",
   "pygments_lexer": "ipython2",
   "version": "2.7.6"
  }
 },
 "nbformat": 4,
 "nbformat_minor": 5
}
